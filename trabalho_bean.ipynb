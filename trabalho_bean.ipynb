{
 "cells": [
  {
   "cell_type": "code",
   "execution_count": 4,
   "id": "102c41aa-d4ff-4fe0-94bc-67259128340e",
   "metadata": {},
   "outputs": [
    {
     "name": "stdout",
     "output_type": "stream",
     "text": [
      "Requirement already satisfied: apache_beam in c:\\users\\vitor\\appdata\\local\\programs\\python\\python311\\lib\\site-packages (2.58.1)\n",
      "Requirement already satisfied: crcmod<2.0,>=1.7 in c:\\users\\vitor\\appdata\\local\\programs\\python\\python311\\lib\\site-packages (from apache_beam) (1.7)\n",
      "Requirement already satisfied: orjson<4,>=3.9.7 in c:\\users\\vitor\\appdata\\local\\programs\\python\\python311\\lib\\site-packages (from apache_beam) (3.10.7)\n",
      "Requirement already satisfied: dill<0.3.2,>=0.3.1.1 in c:\\users\\vitor\\appdata\\local\\programs\\python\\python311\\lib\\site-packages (from apache_beam) (0.3.1.1)\n",
      "Requirement already satisfied: cloudpickle~=2.2.1 in c:\\users\\vitor\\appdata\\local\\programs\\python\\python311\\lib\\site-packages (from apache_beam) (2.2.1)\n",
      "Requirement already satisfied: fastavro<2,>=0.23.6 in c:\\users\\vitor\\appdata\\local\\programs\\python\\python311\\lib\\site-packages (from apache_beam) (1.9.5)\n",
      "Requirement already satisfied: fasteners<1.0,>=0.3 in c:\\users\\vitor\\appdata\\local\\programs\\python\\python311\\lib\\site-packages (from apache_beam) (0.19)\n",
      "Requirement already satisfied: grpcio!=1.48.0,!=1.59.*,!=1.60.*,!=1.61.*,!=1.62.0,!=1.62.1,<2,>=1.33.1 in c:\\users\\vitor\\appdata\\local\\programs\\python\\python311\\lib\\site-packages (from apache_beam) (1.66.0)\n",
      "Requirement already satisfied: hdfs<3.0.0,>=2.1.0 in c:\\users\\vitor\\appdata\\local\\programs\\python\\python311\\lib\\site-packages (from apache_beam) (2.7.3)\n",
      "Requirement already satisfied: httplib2<0.23.0,>=0.8 in c:\\users\\vitor\\appdata\\local\\programs\\python\\python311\\lib\\site-packages (from apache_beam) (0.22.0)\n",
      "Requirement already satisfied: jsonschema<5.0.0,>=4.0.0 in c:\\users\\vitor\\appdata\\local\\programs\\python\\python311\\lib\\site-packages (from apache_beam) (4.22.0)\n",
      "Requirement already satisfied: jsonpickle<4.0.0,>=3.0.0 in c:\\users\\vitor\\appdata\\local\\programs\\python\\python311\\lib\\site-packages (from apache_beam) (3.2.2)\n",
      "Requirement already satisfied: numpy<1.27.0,>=1.14.3 in c:\\users\\vitor\\appdata\\local\\programs\\python\\python311\\lib\\site-packages (from apache_beam) (1.25.0)\n",
      "Requirement already satisfied: objsize<0.8.0,>=0.6.1 in c:\\users\\vitor\\appdata\\local\\programs\\python\\python311\\lib\\site-packages (from apache_beam) (0.7.0)\n",
      "Requirement already satisfied: packaging>=22.0 in c:\\users\\vitor\\appdata\\local\\programs\\python\\python311\\lib\\site-packages (from apache_beam) (23.1)\n",
      "Requirement already satisfied: pymongo<5.0.0,>=3.8.0 in c:\\users\\vitor\\appdata\\local\\programs\\python\\python311\\lib\\site-packages (from apache_beam) (4.8.0)\n",
      "Requirement already satisfied: proto-plus<2,>=1.7.1 in c:\\users\\vitor\\appdata\\local\\programs\\python\\python311\\lib\\site-packages (from apache_beam) (1.24.0)\n",
      "Requirement already satisfied: protobuf!=4.0.*,!=4.21.*,!=4.22.0,!=4.23.*,!=4.24.*,<4.26.0,>=3.20.3 in c:\\users\\vitor\\appdata\\local\\programs\\python\\python311\\lib\\site-packages (from apache_beam) (4.25.4)\n",
      "Requirement already satisfied: pydot<2,>=1.2.0 in c:\\users\\vitor\\appdata\\local\\programs\\python\\python311\\lib\\site-packages (from apache_beam) (1.4.2)\n",
      "Requirement already satisfied: python-dateutil<3,>=2.8.0 in c:\\users\\vitor\\appdata\\local\\programs\\python\\python311\\lib\\site-packages (from apache_beam) (2.8.2)\n",
      "Requirement already satisfied: pytz>=2018.3 in c:\\users\\vitor\\appdata\\local\\programs\\python\\python311\\lib\\site-packages (from apache_beam) (2024.1)\n",
      "Requirement already satisfied: redis<6,>=5.0.0 in c:\\users\\vitor\\appdata\\local\\programs\\python\\python311\\lib\\site-packages (from apache_beam) (5.0.8)\n",
      "Requirement already satisfied: regex>=2020.6.8 in c:\\users\\vitor\\appdata\\local\\programs\\python\\python311\\lib\\site-packages (from apache_beam) (2024.7.24)\n",
      "Requirement already satisfied: requests!=2.32.*,<3.0.0,>=2.24.0 in c:\\users\\vitor\\appdata\\local\\programs\\python\\python311\\lib\\site-packages (from apache_beam) (2.31.0)\n",
      "Requirement already satisfied: typing-extensions>=3.7.0 in c:\\users\\vitor\\appdata\\local\\programs\\python\\python311\\lib\\site-packages (from apache_beam) (4.12.2)\n",
      "Requirement already satisfied: zstandard<1,>=0.18.0 in c:\\users\\vitor\\appdata\\local\\programs\\python\\python311\\lib\\site-packages (from apache_beam) (0.23.0)\n",
      "Requirement already satisfied: pyarrow<17.0.0,>=3.0.0 in c:\\users\\vitor\\appdata\\local\\programs\\python\\python311\\lib\\site-packages (from apache_beam) (16.1.0)\n",
      "Requirement already satisfied: pyarrow-hotfix<1 in c:\\users\\vitor\\appdata\\local\\programs\\python\\python311\\lib\\site-packages (from apache_beam) (0.6)\n",
      "Requirement already satisfied: js2py<1,>=0.74 in c:\\users\\vitor\\appdata\\local\\programs\\python\\python311\\lib\\site-packages (from apache_beam) (0.74)\n",
      "Requirement already satisfied: docopt in c:\\users\\vitor\\appdata\\local\\programs\\python\\python311\\lib\\site-packages (from hdfs<3.0.0,>=2.1.0->apache_beam) (0.6.2)\n",
      "Requirement already satisfied: six>=1.9.0 in c:\\users\\vitor\\appdata\\local\\programs\\python\\python311\\lib\\site-packages (from hdfs<3.0.0,>=2.1.0->apache_beam) (1.16.0)\n",
      "Requirement already satisfied: pyparsing!=3.0.0,!=3.0.1,!=3.0.2,!=3.0.3,<4,>=2.4.2 in c:\\users\\vitor\\appdata\\local\\programs\\python\\python311\\lib\\site-packages (from httplib2<0.23.0,>=0.8->apache_beam) (3.1.0)\n",
      "Requirement already satisfied: tzlocal>=1.2 in c:\\users\\vitor\\appdata\\local\\programs\\python\\python311\\lib\\site-packages (from js2py<1,>=0.74->apache_beam) (5.2)\n",
      "Requirement already satisfied: pyjsparser>=2.5.1 in c:\\users\\vitor\\appdata\\local\\programs\\python\\python311\\lib\\site-packages (from js2py<1,>=0.74->apache_beam) (2.7.1)\n",
      "Requirement already satisfied: attrs>=22.2.0 in c:\\users\\vitor\\appdata\\local\\programs\\python\\python311\\lib\\site-packages (from jsonschema<5.0.0,>=4.0.0->apache_beam) (23.2.0)\n",
      "Requirement already satisfied: jsonschema-specifications>=2023.03.6 in c:\\users\\vitor\\appdata\\local\\programs\\python\\python311\\lib\\site-packages (from jsonschema<5.0.0,>=4.0.0->apache_beam) (2023.12.1)\n",
      "Requirement already satisfied: referencing>=0.28.4 in c:\\users\\vitor\\appdata\\local\\programs\\python\\python311\\lib\\site-packages (from jsonschema<5.0.0,>=4.0.0->apache_beam) (0.35.1)\n",
      "Requirement already satisfied: rpds-py>=0.7.1 in c:\\users\\vitor\\appdata\\local\\programs\\python\\python311\\lib\\site-packages (from jsonschema<5.0.0,>=4.0.0->apache_beam) (0.18.1)\n",
      "Requirement already satisfied: dnspython<3.0.0,>=1.16.0 in c:\\users\\vitor\\appdata\\local\\programs\\python\\python311\\lib\\site-packages (from pymongo<5.0.0,>=3.8.0->apache_beam) (2.6.1)\n",
      "Requirement already satisfied: charset-normalizer<4,>=2 in c:\\users\\vitor\\appdata\\local\\programs\\python\\python311\\lib\\site-packages (from requests!=2.32.*,<3.0.0,>=2.24.0->apache_beam) (3.1.0)\n",
      "Requirement already satisfied: idna<4,>=2.5 in c:\\users\\vitor\\appdata\\local\\programs\\python\\python311\\lib\\site-packages (from requests!=2.32.*,<3.0.0,>=2.24.0->apache_beam) (3.4)\n",
      "Requirement already satisfied: urllib3<3,>=1.21.1 in c:\\users\\vitor\\appdata\\local\\programs\\python\\python311\\lib\\site-packages (from requests!=2.32.*,<3.0.0,>=2.24.0->apache_beam) (2.0.2)\n",
      "Requirement already satisfied: certifi>=2017.4.17 in c:\\users\\vitor\\appdata\\local\\programs\\python\\python311\\lib\\site-packages (from requests!=2.32.*,<3.0.0,>=2.24.0->apache_beam) (2023.5.7)\n",
      "Requirement already satisfied: tzdata in c:\\users\\vitor\\appdata\\local\\programs\\python\\python311\\lib\\site-packages (from tzlocal>=1.2->js2py<1,>=0.74->apache_beam) (2024.1)\n",
      "Note: you may need to restart the kernel to use updated packages.\n"
     ]
    },
    {
     "name": "stderr",
     "output_type": "stream",
     "text": [
      "\n",
      "[notice] A new release of pip is available: 24.1.1 -> 24.2\n",
      "[notice] To update, run: python.exe -m pip install --upgrade pip\n"
     ]
    }
   ],
   "source": [
    "%pip install apache_beam"
   ]
  },
  {
   "cell_type": "code",
   "execution_count": 12,
   "id": "3d8bd0b1",
   "metadata": {},
   "outputs": [],
   "source": [
    "class MultiplyByTwo(beam.DoFn):\n",
    "    def process(self, element):\n",
    "        yield element * 2"
   ]
  },
  {
   "cell_type": "code",
   "execution_count": 13,
   "id": "9eaf0d56-8d0b-48fa-a15f-8e2f8c13e751",
   "metadata": {},
   "outputs": [
    {
     "ename": "FutureTimeoutError",
     "evalue": "",
     "output_type": "error",
     "traceback": [
      "\u001b[1;31m---------------------------------------------------------------------------\u001b[0m",
      "\u001b[1;31mFutureTimeoutError\u001b[0m                        Traceback (most recent call last)",
      "Cell \u001b[1;32mIn[13], line 10\u001b[0m\n\u001b[0;32m      2\u001b[0m \u001b[38;5;28;01mfrom\u001b[39;00m \u001b[38;5;21;01mapache_beam\u001b[39;00m\u001b[38;5;21;01m.\u001b[39;00m\u001b[38;5;21;01moptions\u001b[39;00m\u001b[38;5;21;01m.\u001b[39;00m\u001b[38;5;21;01mpipeline_options\u001b[39;00m \u001b[38;5;28;01mimport\u001b[39;00m PipelineOptions\n\u001b[0;32m      4\u001b[0m optionsx \u001b[38;5;241m=\u001b[39m PipelineOptions([\n\u001b[0;32m      5\u001b[0m     \u001b[38;5;124m\"\u001b[39m\u001b[38;5;124m--runner=FlinkRunner\u001b[39m\u001b[38;5;124m\"\u001b[39m,\n\u001b[0;32m      6\u001b[0m     \u001b[38;5;124m\"\u001b[39m\u001b[38;5;124m--job_endpoint=localhost:8081\u001b[39m\u001b[38;5;124m\"\u001b[39m,\n\u001b[0;32m      7\u001b[0m     \u001b[38;5;124m\"\u001b[39m\u001b[38;5;124m--environment_type=LOOPBACK\u001b[39m\u001b[38;5;124m\"\u001b[39m\n\u001b[0;32m      8\u001b[0m ])\n\u001b[1;32m---> 10\u001b[0m \u001b[38;5;28;43;01mwith\u001b[39;49;00m\u001b[43m \u001b[49m\u001b[43mbeam\u001b[49m\u001b[38;5;241;43m.\u001b[39;49m\u001b[43mPipeline\u001b[49m\u001b[43m(\u001b[49m\u001b[43moptions\u001b[49m\u001b[43m \u001b[49m\u001b[38;5;241;43m=\u001b[39;49m\u001b[43m \u001b[49m\u001b[43moptionsx\u001b[49m\u001b[43m)\u001b[49m\u001b[43m \u001b[49m\u001b[38;5;28;43;01mas\u001b[39;49;00m\u001b[43m \u001b[49m\u001b[43mpipeline\u001b[49m\u001b[43m:\u001b[49m\n\u001b[0;32m     11\u001b[0m \u001b[43m     \u001b[49m\u001b[38;5;66;43;03m# Create an initial PCollection\u001b[39;49;00m\n\u001b[0;32m     12\u001b[0m \u001b[43m    \u001b[49m\u001b[43mnumbers\u001b[49m\u001b[43m \u001b[49m\u001b[38;5;241;43m=\u001b[39;49m\u001b[43m \u001b[49m\u001b[43mpipeline\u001b[49m\u001b[43m \u001b[49m\u001b[38;5;241;43m|\u001b[39;49m\u001b[43m \u001b[49m\u001b[38;5;124;43m'\u001b[39;49m\u001b[38;5;124;43mCreate\u001b[39;49m\u001b[38;5;124;43m'\u001b[39;49m\u001b[43m \u001b[49m\u001b[38;5;241;43m>>\u001b[39;49m\u001b[43m \u001b[49m\u001b[43mbeam\u001b[49m\u001b[38;5;241;43m.\u001b[39;49m\u001b[43mCreate\u001b[49m\u001b[43m(\u001b[49m\u001b[43m[\u001b[49m\u001b[38;5;241;43m1\u001b[39;49m\u001b[43m,\u001b[49m\u001b[43m \u001b[49m\u001b[38;5;241;43m2\u001b[39;49m\u001b[43m,\u001b[49m\u001b[43m \u001b[49m\u001b[38;5;241;43m3\u001b[39;49m\u001b[43m,\u001b[49m\u001b[43m \u001b[49m\u001b[38;5;241;43m4\u001b[39;49m\u001b[43m,\u001b[49m\u001b[43m \u001b[49m\u001b[38;5;241;43m5\u001b[39;49m\u001b[43m]\u001b[49m\u001b[43m)\u001b[49m\n\u001b[0;32m     14\u001b[0m \u001b[43m    \u001b[49m\u001b[38;5;66;43;03m# Apply a ParDo transform to multiply each element by 2\u001b[39;49;00m\n",
      "File \u001b[1;32mc:\\Users\\vitor\\AppData\\Local\\Programs\\Python\\Python311\\Lib\\site-packages\\apache_beam\\pipeline.py:613\u001b[0m, in \u001b[0;36mPipeline.__exit__\u001b[1;34m(self, exc_type, exc_val, exc_tb)\u001b[0m\n\u001b[0;32m    611\u001b[0m \u001b[38;5;28;01mtry\u001b[39;00m:\n\u001b[0;32m    612\u001b[0m   \u001b[38;5;28;01mif\u001b[39;00m \u001b[38;5;129;01mnot\u001b[39;00m exc_type:\n\u001b[1;32m--> 613\u001b[0m     \u001b[38;5;28mself\u001b[39m\u001b[38;5;241m.\u001b[39mresult \u001b[38;5;241m=\u001b[39m \u001b[38;5;28;43mself\u001b[39;49m\u001b[38;5;241;43m.\u001b[39;49m\u001b[43mrun\u001b[49m\u001b[43m(\u001b[49m\u001b[43m)\u001b[49m\n\u001b[0;32m    614\u001b[0m     \u001b[38;5;28mself\u001b[39m\u001b[38;5;241m.\u001b[39mresult\u001b[38;5;241m.\u001b[39mwait_until_finish()\n\u001b[0;32m    615\u001b[0m \u001b[38;5;28;01mfinally\u001b[39;00m:\n",
      "File \u001b[1;32mc:\\Users\\vitor\\AppData\\Local\\Programs\\Python\\Python311\\Lib\\site-packages\\apache_beam\\pipeline.py:587\u001b[0m, in \u001b[0;36mPipeline.run\u001b[1;34m(self, test_runner_api)\u001b[0m\n\u001b[0;32m    585\u001b[0m     \u001b[38;5;28;01mfinally\u001b[39;00m:\n\u001b[0;32m    586\u001b[0m       shutil\u001b[38;5;241m.\u001b[39mrmtree(tmpdir)\n\u001b[1;32m--> 587\u001b[0m   \u001b[38;5;28;01mreturn\u001b[39;00m \u001b[38;5;28;43mself\u001b[39;49m\u001b[38;5;241;43m.\u001b[39;49m\u001b[43mrunner\u001b[49m\u001b[38;5;241;43m.\u001b[39;49m\u001b[43mrun_pipeline\u001b[49m\u001b[43m(\u001b[49m\u001b[38;5;28;43mself\u001b[39;49m\u001b[43m,\u001b[49m\u001b[43m \u001b[49m\u001b[38;5;28;43mself\u001b[39;49m\u001b[38;5;241;43m.\u001b[39;49m\u001b[43m_options\u001b[49m\u001b[43m)\u001b[49m\n\u001b[0;32m    588\u001b[0m \u001b[38;5;28;01mfinally\u001b[39;00m:\n\u001b[0;32m    589\u001b[0m   \u001b[38;5;28;01mif\u001b[39;00m \u001b[38;5;129;01mnot\u001b[39;00m is_in_ipython():\n",
      "File \u001b[1;32mc:\\Users\\vitor\\AppData\\Local\\Programs\\Python\\Python311\\Lib\\site-packages\\apache_beam\\runners\\runner.py:192\u001b[0m, in \u001b[0;36mPipelineRunner.run_pipeline\u001b[1;34m(self, pipeline, options)\u001b[0m\n\u001b[0;32m    189\u001b[0m \u001b[38;5;28;01mif\u001b[39;00m options\u001b[38;5;241m.\u001b[39mview_as(SetupOptions)\u001b[38;5;241m.\u001b[39msdk_location \u001b[38;5;241m==\u001b[39m \u001b[38;5;124m'\u001b[39m\u001b[38;5;124mdefault\u001b[39m\u001b[38;5;124m'\u001b[39m:\n\u001b[0;32m    190\u001b[0m   options\u001b[38;5;241m.\u001b[39mview_as(SetupOptions)\u001b[38;5;241m.\u001b[39msdk_location \u001b[38;5;241m=\u001b[39m \u001b[38;5;124m'\u001b[39m\u001b[38;5;124mcontainer\u001b[39m\u001b[38;5;124m'\u001b[39m\n\u001b[1;32m--> 192\u001b[0m \u001b[38;5;28;01mreturn\u001b[39;00m \u001b[38;5;28;43mself\u001b[39;49m\u001b[38;5;241;43m.\u001b[39;49m\u001b[43mrun_portable_pipeline\u001b[49m\u001b[43m(\u001b[49m\n\u001b[0;32m    193\u001b[0m \u001b[43m    \u001b[49m\u001b[43mpipeline\u001b[49m\u001b[38;5;241;43m.\u001b[39;49m\u001b[43mto_runner_api\u001b[49m\u001b[43m(\u001b[49m\n\u001b[0;32m    194\u001b[0m \u001b[43m        \u001b[49m\u001b[43mdefault_environment\u001b[49m\u001b[38;5;241;43m=\u001b[39;49m\u001b[38;5;28;43mself\u001b[39;49m\u001b[38;5;241;43m.\u001b[39;49m\u001b[43mdefault_environment\u001b[49m\u001b[43m(\u001b[49m\u001b[43moptions\u001b[49m\u001b[43m)\u001b[49m\u001b[43m)\u001b[49m\u001b[43m,\u001b[49m\n\u001b[0;32m    195\u001b[0m \u001b[43m    \u001b[49m\u001b[43moptions\u001b[49m\u001b[43m)\u001b[49m\n",
      "File \u001b[1;32mc:\\Users\\vitor\\AppData\\Local\\Programs\\Python\\Python311\\Lib\\site-packages\\apache_beam\\runners\\portability\\portable_runner.py:381\u001b[0m, in \u001b[0;36mPortableRunner.run_portable_pipeline\u001b[1;34m(self, pipeline, options)\u001b[0m\n\u001b[0;32m    377\u001b[0m cleanup_callbacks \u001b[38;5;241m=\u001b[39m \u001b[38;5;28mself\u001b[39m\u001b[38;5;241m.\u001b[39mstart_and_replace_loopback_environments(\n\u001b[0;32m    378\u001b[0m     pipeline, options)\n\u001b[0;32m    380\u001b[0m optimized_pipeline \u001b[38;5;241m=\u001b[39m \u001b[38;5;28mself\u001b[39m\u001b[38;5;241m.\u001b[39m_optimize_pipeline(pipeline, options)\n\u001b[1;32m--> 381\u001b[0m job_service_handle \u001b[38;5;241m=\u001b[39m \u001b[38;5;28;43mself\u001b[39;49m\u001b[38;5;241;43m.\u001b[39;49m\u001b[43mcreate_job_service\u001b[49m\u001b[43m(\u001b[49m\u001b[43moptions\u001b[49m\u001b[43m)\u001b[49m\n\u001b[0;32m    382\u001b[0m job_id, message_stream, state_stream \u001b[38;5;241m=\u001b[39m job_service_handle\u001b[38;5;241m.\u001b[39msubmit(\n\u001b[0;32m    383\u001b[0m     optimized_pipeline)\n\u001b[0;32m    385\u001b[0m result \u001b[38;5;241m=\u001b[39m PipelineResult(\n\u001b[0;32m    386\u001b[0m     job_service_handle\u001b[38;5;241m.\u001b[39mjob_service,\n\u001b[0;32m    387\u001b[0m     job_id,\n\u001b[0;32m    388\u001b[0m     message_stream,\n\u001b[0;32m    389\u001b[0m     state_stream,\n\u001b[0;32m    390\u001b[0m     cleanup_callbacks)\n",
      "File \u001b[1;32mc:\\Users\\vitor\\AppData\\Local\\Programs\\Python\\Python311\\Lib\\site-packages\\apache_beam\\runners\\portability\\portable_runner.py:296\u001b[0m, in \u001b[0;36mPortableRunner.create_job_service\u001b[1;34m(self, options)\u001b[0m\n\u001b[0;32m    294\u001b[0m \u001b[38;5;28;01melse\u001b[39;00m:\n\u001b[0;32m    295\u001b[0m   server \u001b[38;5;241m=\u001b[39m \u001b[38;5;28mself\u001b[39m\u001b[38;5;241m.\u001b[39mdefault_job_server(options)\n\u001b[1;32m--> 296\u001b[0m \u001b[38;5;28;01mreturn\u001b[39;00m \u001b[38;5;28mself\u001b[39m\u001b[38;5;241m.\u001b[39mcreate_job_service_handle(\u001b[43mserver\u001b[49m\u001b[38;5;241;43m.\u001b[39;49m\u001b[43mstart\u001b[49m\u001b[43m(\u001b[49m\u001b[43m)\u001b[49m, options)\n",
      "File \u001b[1;32mc:\\Users\\vitor\\AppData\\Local\\Programs\\Python\\Python311\\Lib\\site-packages\\apache_beam\\runners\\portability\\job_server.py:54\u001b[0m, in \u001b[0;36mExternalJobServer.start\u001b[1;34m(self)\u001b[0m\n\u001b[0;32m     51\u001b[0m \u001b[38;5;28;01mdef\u001b[39;00m \u001b[38;5;21mstart\u001b[39m(\u001b[38;5;28mself\u001b[39m):\n\u001b[0;32m     52\u001b[0m   \u001b[38;5;66;03m# type: () -> beam_job_api_pb2_grpc.JobServiceStub\u001b[39;00m\n\u001b[0;32m     53\u001b[0m   channel \u001b[38;5;241m=\u001b[39m grpc\u001b[38;5;241m.\u001b[39minsecure_channel(\u001b[38;5;28mself\u001b[39m\u001b[38;5;241m.\u001b[39m_endpoint)\n\u001b[1;32m---> 54\u001b[0m   \u001b[43mgrpc\u001b[49m\u001b[38;5;241;43m.\u001b[39;49m\u001b[43mchannel_ready_future\u001b[49m\u001b[43m(\u001b[49m\u001b[43mchannel\u001b[49m\u001b[43m)\u001b[49m\u001b[38;5;241;43m.\u001b[39;49m\u001b[43mresult\u001b[49m\u001b[43m(\u001b[49m\u001b[43mtimeout\u001b[49m\u001b[38;5;241;43m=\u001b[39;49m\u001b[38;5;28;43mself\u001b[39;49m\u001b[38;5;241;43m.\u001b[39;49m\u001b[43m_timeout\u001b[49m\u001b[43m)\u001b[49m\n\u001b[0;32m     55\u001b[0m   \u001b[38;5;28;01mreturn\u001b[39;00m beam_job_api_pb2_grpc\u001b[38;5;241m.\u001b[39mJobServiceStub(channel)\n",
      "File \u001b[1;32mc:\\Users\\vitor\\AppData\\Local\\Programs\\Python\\Python311\\Lib\\site-packages\\grpc\\_utilities.py:162\u001b[0m, in \u001b[0;36m_ChannelReadyFuture.result\u001b[1;34m(self, timeout)\u001b[0m\n\u001b[0;32m    161\u001b[0m \u001b[38;5;28;01mdef\u001b[39;00m \u001b[38;5;21mresult\u001b[39m(\u001b[38;5;28mself\u001b[39m, timeout: Optional[\u001b[38;5;28mfloat\u001b[39m] \u001b[38;5;241m=\u001b[39m \u001b[38;5;28;01mNone\u001b[39;00m) \u001b[38;5;241m-\u001b[39m\u001b[38;5;241m>\u001b[39m \u001b[38;5;28;01mNone\u001b[39;00m:\n\u001b[1;32m--> 162\u001b[0m     \u001b[38;5;28;43mself\u001b[39;49m\u001b[38;5;241;43m.\u001b[39;49m\u001b[43m_block\u001b[49m\u001b[43m(\u001b[49m\u001b[43mtimeout\u001b[49m\u001b[43m)\u001b[49m\n",
      "File \u001b[1;32mc:\\Users\\vitor\\AppData\\Local\\Programs\\Python\\Python311\\Lib\\site-packages\\grpc\\_utilities.py:106\u001b[0m, in \u001b[0;36m_ChannelReadyFuture._block\u001b[1;34m(self, timeout)\u001b[0m\n\u001b[0;32m    104\u001b[0m remaining \u001b[38;5;241m=\u001b[39m until \u001b[38;5;241m-\u001b[39m time\u001b[38;5;241m.\u001b[39mtime()\n\u001b[0;32m    105\u001b[0m \u001b[38;5;28;01mif\u001b[39;00m remaining \u001b[38;5;241m<\u001b[39m \u001b[38;5;241m0\u001b[39m:\n\u001b[1;32m--> 106\u001b[0m     \u001b[38;5;28;01mraise\u001b[39;00m grpc\u001b[38;5;241m.\u001b[39mFutureTimeoutError()\n\u001b[0;32m    107\u001b[0m \u001b[38;5;28;01melse\u001b[39;00m:\n\u001b[0;32m    108\u001b[0m     \u001b[38;5;28mself\u001b[39m\u001b[38;5;241m.\u001b[39m_condition\u001b[38;5;241m.\u001b[39mwait(timeout\u001b[38;5;241m=\u001b[39mremaining)\n",
      "\u001b[1;31mFutureTimeoutError\u001b[0m: "
     ]
    }
   ],
   "source": [
    "import apache_beam as beam\n",
    "from apache_beam.options.pipeline_options import PipelineOptions\n",
    "\n",
    "optionsx = PipelineOptions([\n",
    "    \"--runner=FlinkRunner\",\n",
    "    \"--flink_master=localhost:8081\",\n",
    "    \"--environment_type=LOOPBACK\"\n",
    "])\n",
    "\n",
    "with beam.Pipeline(options = optionsx) as pipeline:\n",
    "    numbers = pipeline | 'Create' >> beam.Create([1, 2, 3, 4, 5])\n",
    "\n",
    "    multiplied_numbers = numbers | 'Multiply by 2' >> beam.ParDo(MultiplyByTwo())\n",
    "\n",
    "    multiplied_numbers | 'Write to text' >> beam.io.WriteToText('output.txt')\n",
    "\n",
    "pipeline.run()"
   ]
  }
 ],
 "metadata": {
  "kernelspec": {
   "display_name": "Python 3 (ipykernel)",
   "language": "python",
   "name": "python3"
  },
  "language_info": {
   "codemirror_mode": {
    "name": "ipython",
    "version": 3
   },
   "file_extension": ".py",
   "mimetype": "text/x-python",
   "name": "python",
   "nbconvert_exporter": "python",
   "pygments_lexer": "ipython3",
   "version": "3.11.3"
  }
 },
 "nbformat": 4,
 "nbformat_minor": 5
}
